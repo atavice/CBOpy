{
 "cells": [
  {
   "cell_type": "markdown",
   "id": "b411f3ef-5a45-4da6-8f53-c6fad8ded0db",
   "metadata": {},
   "source": [
    "# A simple example showcasing CBX"
   ]
  },
  {
   "cell_type": "code",
   "execution_count": 6,
   "id": "d0af71a6-7c39-4ac2-88e1-15bdc1fe9022",
   "metadata": {},
   "outputs": [
    {
     "name": "stdout",
     "output_type": "stream",
     "text": [
      "The autoreload extension is already loaded. To reload it, use:\n",
      "  %reload_ext autoreload\n"
     ]
    }
   ],
   "source": [
    "%load_ext autoreload\n",
    "%autoreload 2\n",
    "import cbx as cbx\n",
    "from cbx.dynamics import CBO\n",
    "from cbx.objectives import Rastrigin\n",
    "import cbx.utils.termination as term\n",
    "from cbx.scheduler import effective_sample_size"
   ]
  },
  {
   "cell_type": "markdown",
   "id": "246b871a-bf02-4dd5-961c-60e7dbabcf03",
   "metadata": {},
   "source": [
    "# Define the parameters"
   ]
  },
  {
   "cell_type": "code",
   "execution_count": 35,
   "id": "3b24dcf3-d293-4921-a261-0e11d0292d27",
   "metadata": {},
   "outputs": [],
   "source": [
    "conf = {'alpha': 40.0,\n",
    "        'dt': 0.1,\n",
    "        'sigma': 1.,\n",
    "        'lamda': 1.0,\n",
    "        'batch_args':{\n",
    "        'batch_size':200,\n",
    "        'batch_partial': False},\n",
    "        'I': 10,\n",
    "        'J': 10,\n",
    "        'K': 10,\n",
    "        'rank': 5,\n",
    "        'd': 3,\n",
    "        'term_criteria':[term.max_it_term(50)],\n",
    "        'N': 50,\n",
    "        'M': 50,\n",
    "        'track_args': {'names':\n",
    "                       ['update_norm', \n",
    "                        'energy','x', \n",
    "                        'consensus', \n",
    "                        'drift']},}"
   ]
  },
  {
   "cell_type": "markdown",
   "id": "b046058e-7ff3-454d-be0b-60dba7695bcc",
   "metadata": {},
   "source": [
    "# Define the initial positions of the particles and objective function"
   ]
  },
  {
   "cell_type": "code",
   "execution_count": 36,
   "id": "00e42335-26ef-414b-8d77-31508992339e",
   "metadata": {},
   "outputs": [],
   "source": [
    "x = cbx.utils.init_particles(shape=(conf['M'], conf['N'], conf['d']), x_min=-2., x_max = 1.)\n",
    "f = Rastrigin()"
   ]
  },
  {
   "cell_type": "code",
   "execution_count": 38,
   "outputs": [
    {
     "data": {
      "text/plain": "(50, 50, 3)"
     },
     "execution_count": 38,
     "metadata": {},
     "output_type": "execute_result"
    }
   ],
   "source": [
    "x.shape"
   ],
   "metadata": {
    "collapsed": false
   }
  },
  {
   "cell_type": "markdown",
   "id": "77e1cb2e-d826-46a8-8af6-052557ccd8e9",
   "metadata": {},
   "source": [
    "# Define the dynamic and scheduler"
   ]
  },
  {
   "cell_type": "code",
   "execution_count": 4,
   "id": "f702e23d-7e47-45bd-a467-9e606161c6e0",
   "metadata": {},
   "outputs": [],
   "source": [
    "dyn = CBO(f, x=x, noise='isotropic', f_dim='3D', \n",
    "          **conf)\n",
    "sched = effective_sample_size(name='alpha', eta = 0.1)"
   ]
  },
  {
   "cell_type": "markdown",
   "id": "a064a8b1-cbb6-4216-b675-afafb7e508bc",
   "metadata": {},
   "source": [
    "# Run the CBO algorithm"
   ]
  },
  {
   "cell_type": "code",
   "execution_count": 5,
   "id": "10a967a8-12c3-40a9-aee1-85a89772b629",
   "metadata": {
    "scrolled": true,
    "tags": []
   },
   "outputs": [
    {
     "name": "stdout",
     "output_type": "stream",
     "text": [
      "....................\n",
      "Starting Optimization with dynamic: CBO\n",
      "....................\n",
      "Time: 0.100, best current energy: [1.36434729 0.69413879 2.13553224]\n",
      "Number of function evaluations: [100 100 100]\n",
      "Time: 0.200, best current energy: [1.03876671 0.69413879 0.57047459]\n",
      "Number of function evaluations: [150 150 150]\n",
      "Time: 0.300, best current energy: [1.19928801 0.80969486 0.52112361]\n",
      "Number of function evaluations: [200 200 200]\n",
      "Time: 0.400, best current energy: [0.82462182 1.06931158 0.70912585]\n",
      "Number of function evaluations: [250 250 250]\n",
      "Time: 0.500, best current energy: [0.56663831 0.33500776 0.44035131]\n",
      "Number of function evaluations: [300 300 300]\n",
      "Time: 0.600, best current energy: [0.72296346 0.36597075 0.93051127]\n",
      "Number of function evaluations: [350 350 350]\n",
      "Time: 0.700, best current energy: [0.65183949 0.09878942 1.59952723]\n",
      "Number of function evaluations: [400 400 400]\n",
      "Time: 0.800, best current energy: [0.26115226 0.12638631 0.33627158]\n",
      "Number of function evaluations: [450 450 450]\n",
      "Time: 0.900, best current energy: [1.50364471 0.08775645 0.31241084]\n",
      "Number of function evaluations: [500 500 500]\n",
      "Time: 1.000, best current energy: [0.65718189 0.02604942 1.16841734]\n",
      "Number of function evaluations: [550 550 550]\n",
      "Time: 1.100, best current energy: [0.32158473 0.02174617 0.58409954]\n",
      "Number of function evaluations: [600 600 600]\n",
      "Time: 1.200, best current energy: [0.09919639 0.02306785 0.05425399]\n",
      "Number of function evaluations: [650 650 650]\n",
      "Time: 1.300, best current energy: [0.43597347 0.02484885 0.03123764]\n",
      "Number of function evaluations: [700 700 700]\n",
      "Time: 1.400, best current energy: [0.36251641 0.02343734 0.14152741]\n",
      "Number of function evaluations: [750 750 750]\n",
      "Time: 1.500, best current energy: [0.1679917  0.01128332 0.01818583]\n",
      "Number of function evaluations: [800 800 800]\n",
      "Time: 1.600, best current energy: [0.06760092 0.00822609 0.01728238]\n",
      "Number of function evaluations: [850 850 850]\n",
      "Time: 1.700, best current energy: [0.07431228 0.00540778 0.00069342]\n",
      "Number of function evaluations: [900 900 900]\n",
      "Time: 1.800, best current energy: [0.0913292  0.00631094 0.00261435]\n",
      "Number of function evaluations: [950 950 950]\n",
      "Time: 1.900, best current energy: [0.10011823 0.00496051 0.00719677]\n",
      "Number of function evaluations: [1000 1000 1000]\n",
      "Time: 2.000, best current energy: [0.09867923 0.00655083 0.01328013]\n",
      "Number of function evaluations: [1050 1050 1050]\n",
      "Time: 2.100, best current energy: [0.09877723 0.01074747 0.00230998]\n",
      "Number of function evaluations: [1100 1100 1100]\n",
      "Time: 2.200, best current energy: [0.05405718 0.0078633  0.00183233]\n",
      "Number of function evaluations: [1150 1150 1150]\n",
      "Time: 2.300, best current energy: [0.05951535 0.01054686 0.00077733]\n",
      "Number of function evaluations: [1200 1200 1200]\n",
      "Time: 2.400, best current energy: [0.00429682 0.00879936 0.00111129]\n",
      "Number of function evaluations: [1250 1250 1250]\n",
      "Time: 2.500, best current energy: [0.00242543 0.00307555 0.00209028]\n",
      "Number of function evaluations: [1300 1300 1300]\n",
      "Time: 2.600, best current energy: [0.00524599 0.00123157 0.00158882]\n",
      "Number of function evaluations: [1350 1350 1350]\n",
      "Time: 2.700, best current energy: [0.00021388 0.0012628  0.00116822]\n",
      "Number of function evaluations: [1400 1400 1400]\n",
      "Time: 2.800, best current energy: [0.00116892 0.00152974 0.00121478]\n",
      "Number of function evaluations: [1450 1450 1450]\n",
      "Time: 2.900, best current energy: [1.35888301e-03 1.60145440e-03 7.35977775e-06]\n",
      "Number of function evaluations: [1500 1500 1500]\n",
      "Time: 3.000, best current energy: [0.00110747 0.00136948 0.00012156]\n",
      "Number of function evaluations: [1550 1550 1550]\n",
      "Time: 3.100, best current energy: [0.00043298 0.00103732 0.00033805]\n",
      "Number of function evaluations: [1600 1600 1600]\n",
      "Time: 3.200, best current energy: [0.00017363 0.00070598 0.00093058]\n",
      "Number of function evaluations: [1650 1650 1650]\n",
      "Time: 3.300, best current energy: [0.00011624 0.00061139 0.00087692]\n",
      "Number of function evaluations: [1700 1700 1700]\n",
      "Time: 3.400, best current energy: [4.04978160e-05 6.20088501e-04 1.03091321e-03]\n",
      "Number of function evaluations: [1750 1750 1750]\n",
      "Time: 3.500, best current energy: [2.43473794e-05 5.39228550e-04 1.09724390e-03]\n",
      "Number of function evaluations: [1800 1800 1800]\n",
      "Time: 3.600, best current energy: [1.56330912e-05 1.72687390e-04 3.47941293e-04]\n",
      "Number of function evaluations: [1850 1850 1850]\n",
      "Time: 3.700, best current energy: [2.50398570e-05 7.64730918e-05 3.52137205e-04]\n",
      "Number of function evaluations: [1900 1900 1900]\n",
      "Time: 3.800, best current energy: [2.68593608e-06 4.76432302e-05 2.99048896e-04]\n",
      "Number of function evaluations: [1950 1950 1950]\n",
      "Time: 3.900, best current energy: [3.04896099e-05 6.61863114e-05 3.85104189e-04]\n",
      "Number of function evaluations: [2000 2000 2000]\n",
      "Time: 4.000, best current energy: [2.77572412e-05 4.15807976e-05 3.47989893e-04]\n",
      "Number of function evaluations: [2050 2050 2050]\n",
      "Time: 4.100, best current energy: [4.38724656e-05 3.97764801e-05 3.54425534e-04]\n",
      "Number of function evaluations: [2100 2100 2100]\n",
      "Time: 4.200, best current energy: [4.09821487e-05 3.72747340e-05 2.03028477e-04]\n",
      "Number of function evaluations: [2150 2150 2150]\n",
      "Time: 4.300, best current energy: [4.09131325e-05 4.90821647e-05 2.04741894e-04]\n",
      "Number of function evaluations: [2200 2200 2200]\n",
      "Time: 4.400, best current energy: [3.23048849e-05 2.05519507e-06 3.49393102e-04]\n",
      "Number of function evaluations: [2250 2250 2250]\n",
      "Time: 4.500, best current energy: [2.07764580e-05 1.04454436e-05 1.40756786e-04]\n",
      "Number of function evaluations: [2300 2300 2300]\n",
      "Time: 4.600, best current energy: [1.58883604e-05 1.47851048e-05 4.45077163e-05]\n",
      "Number of function evaluations: [2350 2350 2350]\n",
      "Time: 4.700, best current energy: [2.46240038e-06 2.01038500e-05 4.15545507e-05]\n",
      "Number of function evaluations: [2400 2400 2400]\n",
      "Time: 4.800, best current energy: [1.28044593e-06 1.49449776e-05 1.95781340e-05]\n",
      "Number of function evaluations: [2450 2450 2450]\n",
      "Time: 4.900, best current energy: [2.50685622e-06 7.12465827e-06 2.88918064e-05]\n",
      "Number of function evaluations: [2500 2500 2500]\n",
      "Time: 5.000, best current energy: [2.67842429e-06 7.73544178e-07 3.49805744e-05]\n",
      "Number of function evaluations: [2550 2550 2550]\n",
      "--------------------\n",
      "Finished solver.\n",
      "Best energy: [1.28044593e-06 7.73544178e-07 7.35977775e-06]\n",
      "--------------------\n"
     ]
    },
    {
     "data": {
      "text/plain": "array([[-1.30564830e-05,  1.12861706e-04],\n       [ 7.65393384e-05,  4.40439003e-05],\n       [-5.79221962e-05,  2.66156537e-04]])"
     },
     "execution_count": 5,
     "metadata": {},
     "output_type": "execute_result"
    }
   ],
   "source": [
    "dyn.optimize(sched=sched)"
   ]
  },
  {
   "cell_type": "code",
   "execution_count": null,
   "outputs": [],
   "source": [],
   "metadata": {
    "collapsed": false
   }
  }
 ],
 "metadata": {
  "kernelspec": {
   "display_name": "Python 3 (ipykernel)",
   "language": "python",
   "name": "python3"
  },
  "language_info": {
   "codemirror_mode": {
    "name": "ipython",
    "version": 3
   },
   "file_extension": ".py",
   "mimetype": "text/x-python",
   "name": "python",
   "nbconvert_exporter": "python",
   "pygments_lexer": "ipython3",
   "version": "3.12.3"
  }
 },
 "nbformat": 4,
 "nbformat_minor": 5
}

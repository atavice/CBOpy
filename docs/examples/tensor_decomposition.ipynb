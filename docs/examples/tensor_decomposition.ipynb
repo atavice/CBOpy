{
 "cells": [
  {
   "cell_type": "markdown",
   "source": [
    "An example for Tensor Decomposition"
   ],
   "metadata": {
    "collapsed": false
   }
  },
  {
   "cell_type": "code",
   "execution_count": 103,
   "outputs": [
    {
     "name": "stdout",
     "output_type": "stream",
     "text": [
      "The autoreload extension is already loaded. To reload it, use:\n",
      "  %reload_ext autoreload\n"
     ]
    }
   ],
   "source": [
    "%load_ext autoreload\n",
    "%autoreload 2\n",
    "import cbx as cbx\n",
    "from cbx.dynamics import CBO\n",
    "from cbx.objectives import Rastrigin\n",
    "import cbx.utils.termination as term\n",
    "from cbx.scheduler import effective_sample_size\n",
    "\n",
    "\n",
    "import numpy as np\n",
    "import tensorly as tl"
   ],
   "metadata": {
    "collapsed": false
   }
  },
  {
   "cell_type": "markdown",
   "source": [
    "Define the tensor that we want to decompose"
   ],
   "metadata": {
    "collapsed": false
   }
  },
  {
   "cell_type": "code",
   "execution_count": 104,
   "outputs": [],
   "source": [
    "# Dimensions of the 3-way tensor\n",
    "I, J, K = 10, 12, 14\n",
    "\n",
    "# Create a random tensor\n",
    "tensor = tl.tensor(np.random.random((I, J, K)))\n",
    "\n",
    "# Define rank\n",
    "rank = 5"
   ],
   "metadata": {
    "collapsed": false
   }
  },
  {
   "cell_type": "code",
   "execution_count": 105,
   "outputs": [
    {
     "data": {
      "text/plain": "array([[[0.2455526 , 0.1218777 , 0.20120624, ..., 0.4965727 ,\n         0.7540427 , 0.12557037],\n        [0.70138246, 0.13851716, 0.10552881, ..., 0.23223115,\n         0.20972468, 0.02631908],\n        [0.39200775, 0.39815091, 0.32636065, ..., 0.30790551,\n         0.40036214, 0.23633321],\n        ...,\n        [0.42008973, 0.60417305, 0.27248502, ..., 0.39699895,\n         0.32792294, 0.14289898],\n        [0.36254645, 0.68801058, 0.44695512, ..., 0.13456593,\n         0.99531381, 0.42792788],\n        [0.95582404, 0.69291615, 0.42461499, ..., 0.38240277,\n         0.19715776, 0.89422255]],\n\n       [[0.65890714, 0.71839053, 0.76132804, ..., 0.16194523,\n         0.31805053, 0.27495717],\n        [0.4780809 , 0.84759011, 0.69402113, ..., 0.05418167,\n         0.48959018, 0.62654427],\n        [0.92194876, 0.49292669, 0.94504717, ..., 0.75943323,\n         0.4679156 , 0.26370632],\n        ...,\n        [0.9149338 , 0.15750056, 0.10091374, ..., 0.10428115,\n         0.42762386, 0.43276643],\n        [0.40812624, 0.75896887, 0.41184955, ..., 0.03724501,\n         0.17230091, 0.79756939],\n        [0.54383365, 0.53189433, 0.0025107 , ..., 0.73107269,\n         0.72378657, 0.87837175]],\n\n       [[0.03265623, 0.18569346, 0.55783811, ..., 0.50981835,\n         0.02768646, 0.56800293],\n        [0.34108147, 0.29486682, 0.46324399, ..., 0.09392989,\n         0.7594199 , 0.72729734],\n        [0.04707973, 0.40719957, 0.73274406, ..., 0.81574982,\n         0.81539089, 0.58628618],\n        ...,\n        [0.90294119, 0.68970026, 0.20054127, ..., 0.22732359,\n         0.96625729, 0.85684364],\n        [0.91624658, 0.97931241, 0.56113191, ..., 0.63736366,\n         0.63002518, 0.8858647 ],\n        [0.80996179, 0.27473337, 0.96290382, ..., 0.35690751,\n         0.72766014, 0.86234962]],\n\n       ...,\n\n       [[0.69130228, 0.76497385, 0.17494329, ..., 0.52752624,\n         0.96986595, 0.1785649 ],\n        [0.82926228, 0.80924803, 0.0295497 , ..., 0.71681267,\n         0.52669399, 0.74152926],\n        [0.40895687, 0.47351678, 0.04413253, ..., 0.06745977,\n         0.52642691, 0.14437976],\n        ...,\n        [0.37200719, 0.51562541, 0.26189211, ..., 0.06833544,\n         0.58924214, 0.63993822],\n        [0.97843907, 0.86311539, 0.60537448, ..., 0.65334721,\n         0.05365784, 0.97530266],\n        [0.05943933, 0.94272122, 0.668681  , ..., 0.08316596,\n         0.04077072, 0.45164602]],\n\n       [[0.43963879, 0.81501446, 0.19935269, ..., 0.2266258 ,\n         0.30573783, 0.07426937],\n        [0.81931017, 0.24303333, 0.52446827, ..., 0.28454737,\n         0.24960331, 0.21030901],\n        [0.87819694, 0.41745699, 0.57762065, ..., 0.46852344,\n         0.46653485, 0.62806943],\n        ...,\n        [0.0919967 , 0.8403986 , 0.27643808, ..., 0.10503858,\n         0.85681544, 0.75264815],\n        [0.89797114, 0.14004138, 0.61165499, ..., 0.68399034,\n         0.82578668, 0.50646117],\n        [0.74757037, 0.21800385, 0.06648191, ..., 0.48358303,\n         0.26230222, 0.79595284]],\n\n       [[0.81757463, 0.87279343, 0.36403391, ..., 0.15476524,\n         0.91767977, 0.4601071 ],\n        [0.20008605, 0.83063793, 0.09785953, ..., 0.95780014,\n         0.74987974, 0.72316258],\n        [0.94745593, 0.66579681, 0.65149712, ..., 0.36853799,\n         0.37182105, 0.35535183],\n        ...,\n        [0.85090399, 0.24533928, 0.84021268, ..., 0.97574421,\n         0.91629332, 0.29440366],\n        [0.94814171, 0.62991597, 0.52655814, ..., 0.1489251 ,\n         0.34535109, 0.84627502],\n        [0.8285641 , 0.98170783, 0.04272881, ..., 0.10634776,\n         0.13077496, 0.03150109]]])"
     },
     "execution_count": 105,
     "metadata": {},
     "output_type": "execute_result"
    }
   ],
   "source": [
    "tensor"
   ],
   "metadata": {
    "collapsed": false
   }
  },
  {
   "cell_type": "markdown",
   "source": [
    "Define the parameters"
   ],
   "metadata": {
    "collapsed": false
   }
  },
  {
   "cell_type": "code",
   "execution_count": 106,
   "outputs": [],
   "source": [
    "conf = {'alpha': 40.0,\n",
    "        'dt': 0.1,\n",
    "        'sigma': 1.,\n",
    "        'lamda': 1.0,\n",
    "        'batch_args':{\n",
    "        'batch_size':200,\n",
    "        'batch_partial': False},\n",
    "        'tensor': tensor,\n",
    "        'rank': rank,\n",
    "        'd': 3,\n",
    "        'term_criteria':[term.max_it_term(50)],\n",
    "        'N': 100, # number of the particles\n",
    "        'M': 100, # iterations\n",
    "        'track_args': {'names':\n",
    "                       ['update_norm',\n",
    "                        'energy','x',\n",
    "                        'consensus',\n",
    "                        'drift']},}"
   ],
   "metadata": {
    "collapsed": false
   }
  },
  {
   "cell_type": "markdown",
   "source": [
    "Define the initial positions of the particles"
   ],
   "metadata": {
    "collapsed": false
   }
  },
  {
   "cell_type": "code",
   "execution_count": 107,
   "outputs": [],
   "source": [
    "particles = cbx.utils.init_particles(shape=(conf['M'], conf['N'], conf['d']), tensor=tensor, rank=conf['rank'], x_min=-1.0, x_max=1.0, delta=1.0, method=\"uniform\")"
   ],
   "metadata": {
    "collapsed": false
   }
  },
  {
   "cell_type": "code",
   "execution_count": 114,
   "outputs": [],
   "source": [
    "particles = np.array([particles])"
   ],
   "metadata": {
    "collapsed": false
   }
  },
  {
   "cell_type": "code",
   "execution_count": 118,
   "outputs": [
    {
     "ename": "IndexError",
     "evalue": "index 1 is out of bounds for axis 0 with size 1",
     "output_type": "error",
     "traceback": [
      "\u001B[0;31m---------------------------------------------------------------------------\u001B[0m",
      "\u001B[0;31mIndexError\u001B[0m                                Traceback (most recent call last)",
      "Cell \u001B[0;32mIn[118], line 1\u001B[0m\n\u001B[0;32m----> 1\u001B[0m \u001B[43mparticles\u001B[49m\u001B[43m[\u001B[49m\u001B[38;5;241;43m1\u001B[39;49m\u001B[43m]\u001B[49m\n",
      "\u001B[0;31mIndexError\u001B[0m: index 1 is out of bounds for axis 0 with size 1"
     ]
    }
   ],
   "source": [
    "particles"
   ],
   "metadata": {
    "collapsed": false
   }
  },
  {
   "cell_type": "markdown",
   "source": [
    "Define the objective function (in objectives.py) and see the errors of the particles."
   ],
   "metadata": {
    "collapsed": false
   }
  },
  {
   "cell_type": "code",
   "execution_count": 108,
   "outputs": [
    {
     "data": {
      "text/plain": "'from cbx.objectives import TensorReconstructionError\\nerror_func = TensorReconstructionError(tensor)\\n\\nerrors = []\\nfor particle in particles:\\n    error = error_func(particle)\\n    errors.append(error)\\n    print(f\"Reconstruction error: {error}\")'"
     },
     "execution_count": 108,
     "metadata": {},
     "output_type": "execute_result"
    }
   ],
   "source": [
    "\"\"\"from cbx.objectives import TensorReconstructionError\n",
    "error_func = TensorReconstructionError(tensor)\n",
    "\n",
    "errors = []\n",
    "for particle in particles:\n",
    "    error = error_func(particle)\n",
    "    errors.append(error)\n",
    "    print(f\"Reconstruction error: {error}\")\"\"\""
   ],
   "metadata": {
    "collapsed": false
   }
  },
  {
   "cell_type": "code",
   "execution_count": 119,
   "outputs": [],
   "source": [
    "from cbx.objectives import TensorReconstructionError\n",
    "f = TensorReconstructionError(tensor)"
   ],
   "metadata": {
    "collapsed": false
   }
  },
  {
   "cell_type": "markdown",
   "source": [
    "Define the dynamic and scheduler"
   ],
   "metadata": {
    "collapsed": false
   }
  },
  {
   "cell_type": "code",
   "execution_count": 120,
   "outputs": [
    {
     "ename": "IndexError",
     "evalue": "only integers, slices (`:`), ellipsis (`...`), numpy.newaxis (`None`) and integer or boolean arrays are valid indices",
     "output_type": "error",
     "traceback": [
      "\u001B[0;31m---------------------------------------------------------------------------\u001B[0m",
      "\u001B[0;31mIndexError\u001B[0m                                Traceback (most recent call last)",
      "Cell \u001B[0;32mIn[120], line 1\u001B[0m\n\u001B[0;32m----> 1\u001B[0m dyn \u001B[38;5;241m=\u001B[39m \u001B[43mCBO\u001B[49m\u001B[43m(\u001B[49m\u001B[43mf\u001B[49m\u001B[43m,\u001B[49m\u001B[43m \u001B[49m\u001B[43mx\u001B[49m\u001B[38;5;241;43m=\u001B[39;49m\u001B[43mparticles\u001B[49m\u001B[43m,\u001B[49m\u001B[43m \u001B[49m\u001B[43mnoise\u001B[49m\u001B[38;5;241;43m=\u001B[39;49m\u001B[38;5;124;43m'\u001B[39;49m\u001B[38;5;124;43misotropic\u001B[39;49m\u001B[38;5;124;43m'\u001B[39;49m\u001B[43m,\u001B[49m\u001B[43m \u001B[49m\u001B[43mf_dim\u001B[49m\u001B[38;5;241;43m=\u001B[39;49m\u001B[38;5;124;43m'\u001B[39;49m\u001B[38;5;124;43m3D\u001B[39;49m\u001B[38;5;124;43m'\u001B[39;49m\u001B[43m,\u001B[49m\n\u001B[1;32m      2\u001B[0m \u001B[43m          \u001B[49m\u001B[38;5;241;43m*\u001B[39;49m\u001B[38;5;241;43m*\u001B[39;49m\u001B[43mconf\u001B[49m\u001B[43m)\u001B[49m\n\u001B[1;32m      3\u001B[0m sched \u001B[38;5;241m=\u001B[39m effective_sample_size(name\u001B[38;5;241m=\u001B[39m\u001B[38;5;124m'\u001B[39m\u001B[38;5;124malpha\u001B[39m\u001B[38;5;124m'\u001B[39m, eta \u001B[38;5;241m=\u001B[39m \u001B[38;5;241m0.1\u001B[39m)\n",
      "File \u001B[0;32m~/Desktop/CBOpy/cbx/dynamics/cbo.py:38\u001B[0m, in \u001B[0;36mCBO.__init__\u001B[0;34m(self, f, **kwargs)\u001B[0m\n\u001B[1;32m     37\u001B[0m \u001B[38;5;28;01mdef\u001B[39;00m \u001B[38;5;21m__init__\u001B[39m(\u001B[38;5;28mself\u001B[39m, f, \u001B[38;5;241m*\u001B[39m\u001B[38;5;241m*\u001B[39mkwargs) \u001B[38;5;241m-\u001B[39m\u001B[38;5;241m>\u001B[39m \u001B[38;5;28;01mNone\u001B[39;00m:\n\u001B[0;32m---> 38\u001B[0m     \u001B[38;5;28;43msuper\u001B[39;49m\u001B[43m(\u001B[49m\u001B[43m)\u001B[49m\u001B[38;5;241;43m.\u001B[39;49m\u001B[38;5;21;43m__init__\u001B[39;49m\u001B[43m(\u001B[49m\u001B[43mf\u001B[49m\u001B[43m,\u001B[49m\u001B[43m \u001B[49m\u001B[38;5;241;43m*\u001B[39;49m\u001B[38;5;241;43m*\u001B[39;49m\u001B[43mkwargs\u001B[49m\u001B[43m)\u001B[49m\n",
      "File \u001B[0;32m~/Desktop/CBOpy/cbx/dynamics/pdyn.py:614\u001B[0m, in \u001B[0;36mCBXDynamic.__init__\u001B[0;34m(self, f, noise, batch_args, dt, alpha, sigma, lamda, tensor, rank, correction, correction_eps, compute_consensus, **kwargs)\u001B[0m\n\u001B[1;32m    600\u001B[0m \u001B[38;5;28;01mdef\u001B[39;00m \u001B[38;5;21m__init__\u001B[39m(\u001B[38;5;28mself\u001B[39m, f,\n\u001B[1;32m    601\u001B[0m         noise: Union[\u001B[38;5;28mstr\u001B[39m, Callable] \u001B[38;5;241m=\u001B[39m \u001B[38;5;124m'\u001B[39m\u001B[38;5;124misotropic\u001B[39m\u001B[38;5;124m'\u001B[39m,\n\u001B[1;32m    602\u001B[0m         batch_args: Union[\u001B[38;5;28;01mNone\u001B[39;00m, \u001B[38;5;28mdict\u001B[39m] \u001B[38;5;241m=\u001B[39m \u001B[38;5;28;01mNone\u001B[39;00m,\n\u001B[0;32m   (...)\u001B[0m\n\u001B[1;32m    611\u001B[0m         compute_consensus: Callable \u001B[38;5;241m=\u001B[39m \u001B[38;5;28;01mNone\u001B[39;00m,\n\u001B[1;32m    612\u001B[0m         \u001B[38;5;241m*\u001B[39m\u001B[38;5;241m*\u001B[39mkwargs) \u001B[38;5;241m-\u001B[39m\u001B[38;5;241m>\u001B[39m \u001B[38;5;28;01mNone\u001B[39;00m:\n\u001B[0;32m--> 614\u001B[0m     \u001B[38;5;28;43msuper\u001B[39;49m\u001B[43m(\u001B[49m\u001B[43m)\u001B[49m\u001B[38;5;241;43m.\u001B[39;49m\u001B[38;5;21;43m__init__\u001B[39;49m\u001B[43m(\u001B[49m\u001B[43mf\u001B[49m\u001B[43m,\u001B[49m\u001B[43m \u001B[49m\u001B[38;5;241;43m*\u001B[39;49m\u001B[38;5;241;43m*\u001B[39;49m\u001B[43mkwargs\u001B[49m\u001B[43m)\u001B[49m\n\u001B[1;32m    616\u001B[0m     \u001B[38;5;66;03m# cbx parameters\u001B[39;00m\n\u001B[1;32m    617\u001B[0m     \u001B[38;5;28mself\u001B[39m\u001B[38;5;241m.\u001B[39mdt \u001B[38;5;241m=\u001B[39m dt\n",
      "File \u001B[0;32m~/Desktop/CBOpy/cbx/dynamics/pdyn.py:150\u001B[0m, in \u001B[0;36mParticleDynamic.__init__\u001B[0;34m(self, f, f_dim, check_f_dims, x, M, N, d, max_it, term_criteria, track_args, verbosity, copy, norm, sampler, post_process, seed)\u001B[0m\n\u001B[1;32m    147\u001B[0m \u001B[38;5;28mself\u001B[39m\u001B[38;5;241m.\u001B[39minit_x(x, M, N, d)\n\u001B[1;32m    149\u001B[0m \u001B[38;5;66;03m# set and promote objective function\u001B[39;00m\n\u001B[0;32m--> 150\u001B[0m \u001B[38;5;28;43mself\u001B[39;49m\u001B[38;5;241;43m.\u001B[39;49m\u001B[43minit_f\u001B[49m\u001B[43m(\u001B[49m\u001B[43mf\u001B[49m\u001B[43m,\u001B[49m\u001B[43m \u001B[49m\u001B[43mf_dim\u001B[49m\u001B[43m,\u001B[49m\u001B[43m \u001B[49m\u001B[43mcheck_f_dims\u001B[49m\u001B[43m)\u001B[49m\n\u001B[1;32m    152\u001B[0m \u001B[38;5;28mself\u001B[39m\u001B[38;5;241m.\u001B[39menergy \u001B[38;5;241m=\u001B[39m \u001B[38;5;28mfloat\u001B[39m(\u001B[38;5;124m'\u001B[39m\u001B[38;5;124minf\u001B[39m\u001B[38;5;124m'\u001B[39m) \u001B[38;5;241m*\u001B[39m np\u001B[38;5;241m.\u001B[39mones((\u001B[38;5;28mself\u001B[39m\u001B[38;5;241m.\u001B[39mM, \u001B[38;5;28mself\u001B[39m\u001B[38;5;241m.\u001B[39mN))  \u001B[38;5;66;03m# energy of the particles\u001B[39;00m\n\u001B[1;32m    153\u001B[0m \u001B[38;5;28mself\u001B[39m\u001B[38;5;241m.\u001B[39mbest_energy \u001B[38;5;241m=\u001B[39m \u001B[38;5;28mfloat\u001B[39m(\u001B[38;5;124m'\u001B[39m\u001B[38;5;124minf\u001B[39m\u001B[38;5;124m'\u001B[39m) \u001B[38;5;241m*\u001B[39m np\u001B[38;5;241m.\u001B[39mones(\u001B[38;5;28mself\u001B[39m\u001B[38;5;241m.\u001B[39mM,)\n",
      "File \u001B[0;32m~/Desktop/CBOpy/cbx/dynamics/pdyn.py:213\u001B[0m, in \u001B[0;36mParticleDynamic.init_f\u001B[0;34m(self, f, f_dim, check_f_dims)\u001B[0m\n\u001B[1;32m    211\u001B[0m \u001B[38;5;28mself\u001B[39m\u001B[38;5;241m.\u001B[39mnum_f_eval \u001B[38;5;241m=\u001B[39m \u001B[38;5;241m0\u001B[39m \u001B[38;5;241m*\u001B[39m np\u001B[38;5;241m.\u001B[39mones((\u001B[38;5;28mself\u001B[39m\u001B[38;5;241m.\u001B[39mM,), dtype\u001B[38;5;241m=\u001B[39m\u001B[38;5;28mint\u001B[39m) \u001B[38;5;66;03m# number of function evaluations  \u001B[39;00m\n\u001B[1;32m    212\u001B[0m \u001B[38;5;28mself\u001B[39m\u001B[38;5;241m.\u001B[39mf_min \u001B[38;5;241m=\u001B[39m \u001B[38;5;28mfloat\u001B[39m(\u001B[38;5;124m'\u001B[39m\u001B[38;5;124minf\u001B[39m\u001B[38;5;124m'\u001B[39m) \u001B[38;5;241m*\u001B[39m np\u001B[38;5;241m.\u001B[39mones((\u001B[38;5;28mself\u001B[39m\u001B[38;5;241m.\u001B[39mM,)) \u001B[38;5;66;03m# minimum function value\u001B[39;00m\n\u001B[0;32m--> 213\u001B[0m \u001B[38;5;28;43mself\u001B[39;49m\u001B[38;5;241;43m.\u001B[39;49m\u001B[43mcheck_f_dims\u001B[49m\u001B[43m(\u001B[49m\u001B[43mcheck\u001B[49m\u001B[38;5;241;43m=\u001B[39;49m\u001B[43mcheck_f_dims\u001B[49m\u001B[43m)\u001B[49m\n",
      "File \u001B[0;32m~/Desktop/CBOpy/cbx/dynamics/pdyn.py:227\u001B[0m, in \u001B[0;36mParticleDynamic.check_f_dims\u001B[0;34m(self, check)\u001B[0m\n\u001B[1;32m    225\u001B[0m \u001B[38;5;28;01mif\u001B[39;00m check: \u001B[38;5;66;03m# check if f returns correct shape\u001B[39;00m\n\u001B[1;32m    226\u001B[0m     x \u001B[38;5;241m=\u001B[39m \u001B[38;5;28mself\u001B[39m\u001B[38;5;241m.\u001B[39msampler(size\u001B[38;5;241m=\u001B[39m\u001B[38;5;28mself\u001B[39m\u001B[38;5;241m.\u001B[39mx\u001B[38;5;241m.\u001B[39mshape)\n\u001B[0;32m--> 227\u001B[0m     \u001B[38;5;28;01mif\u001B[39;00m \u001B[38;5;28;43mself\u001B[39;49m\u001B[38;5;241;43m.\u001B[39;49m\u001B[43mf\u001B[49m\u001B[43m(\u001B[49m\u001B[43mx\u001B[49m\u001B[43m)\u001B[49m\u001B[38;5;241m.\u001B[39mshape \u001B[38;5;241m!=\u001B[39m (\u001B[38;5;28mself\u001B[39m\u001B[38;5;241m.\u001B[39mM,\u001B[38;5;28mself\u001B[39m\u001B[38;5;241m.\u001B[39mN):\n\u001B[1;32m    228\u001B[0m         \u001B[38;5;28;01mraise\u001B[39;00m \u001B[38;5;167;01mValueError\u001B[39;00m(\u001B[38;5;124m\"\u001B[39m\u001B[38;5;124mThe given objective function does not return the correct shape!\u001B[39m\u001B[38;5;124m\"\u001B[39m)\n\u001B[1;32m    229\u001B[0m     \u001B[38;5;28mself\u001B[39m\u001B[38;5;241m.\u001B[39mnum_f_eval \u001B[38;5;241m+\u001B[39m\u001B[38;5;241m=\u001B[39m \u001B[38;5;28mself\u001B[39m\u001B[38;5;241m.\u001B[39mN \u001B[38;5;241m*\u001B[39m np\u001B[38;5;241m.\u001B[39mones((\u001B[38;5;28mself\u001B[39m\u001B[38;5;241m.\u001B[39mM,), dtype\u001B[38;5;241m=\u001B[39m\u001B[38;5;28mint\u001B[39m)\n",
      "File \u001B[0;32m~/Desktop/CBOpy/cbx/utils/objective_handling.py:37\u001B[0m, in \u001B[0;36mcbx_objective.__call__\u001B[0;34m(self, x)\u001B[0m\n\u001B[1;32m     23\u001B[0m \u001B[38;5;250m\u001B[39m\u001B[38;5;124;03m\"\"\"\u001B[39;00m\n\u001B[1;32m     24\u001B[0m \u001B[38;5;124;03mApplies the objective function to the input x and counts the number of evaluations.\u001B[39;00m\n\u001B[1;32m     25\u001B[0m \n\u001B[0;32m   (...)\u001B[0m\n\u001B[1;32m     33\u001B[0m \u001B[38;5;124;03mThe output of the objective function.\u001B[39;00m\n\u001B[1;32m     34\u001B[0m \u001B[38;5;124;03m\"\"\"\u001B[39;00m\n\u001B[1;32m     36\u001B[0m \u001B[38;5;28mself\u001B[39m\u001B[38;5;241m.\u001B[39mnum_eval \u001B[38;5;241m+\u001B[39m\u001B[38;5;241m=\u001B[39m np\u001B[38;5;241m.\u001B[39mprod(np\u001B[38;5;241m.\u001B[39matleast_2d(x)\u001B[38;5;241m.\u001B[39mshape[:\u001B[38;5;241m-\u001B[39m\u001B[38;5;241m1\u001B[39m], dtype \u001B[38;5;241m=\u001B[39m \u001B[38;5;28mint\u001B[39m)\n\u001B[0;32m---> 37\u001B[0m \u001B[38;5;28;01mreturn\u001B[39;00m \u001B[38;5;28;43mself\u001B[39;49m\u001B[38;5;241;43m.\u001B[39;49m\u001B[43mapply\u001B[49m\u001B[43m(\u001B[49m\u001B[43mx\u001B[49m\u001B[43m)\u001B[49m\n",
      "File \u001B[0;32m~/Desktop/CBOpy/cbx/objectives.py:349\u001B[0m, in \u001B[0;36mTensorReconstructionError.apply\u001B[0;34m(self, particle)\u001B[0m\n\u001B[1;32m    338\u001B[0m \u001B[38;5;250m\u001B[39m\u001B[38;5;124;03m\"\"\"\u001B[39;00m\n\u001B[1;32m    339\u001B[0m \u001B[38;5;124;03mCalculate the reconstruction error of the tensor from the given particle matrices.\u001B[39;00m\n\u001B[1;32m    340\u001B[0m \n\u001B[0;32m   (...)\u001B[0m\n\u001B[1;32m    345\u001B[0m \u001B[38;5;124;03mfloat: The Frobenius norm of the difference between the starting tensor and the reconstructed tensor.\u001B[39;00m\n\u001B[1;32m    346\u001B[0m \u001B[38;5;124;03m\"\"\"\u001B[39;00m\n\u001B[1;32m    347\u001B[0m \u001B[38;5;66;03m# Compose the tensor from the particle's matrices\u001B[39;00m\n\u001B[1;32m    348\u001B[0m \u001B[38;5;66;03m# Create the tensor from the CP components\u001B[39;00m\n\u001B[0;32m--> 349\u001B[0m weights \u001B[38;5;241m=\u001B[39m np\u001B[38;5;241m.\u001B[39mones(\u001B[43mparticle\u001B[49m\u001B[43m[\u001B[49m\u001B[38;5;124;43m'\u001B[39;49m\u001B[38;5;124;43mA\u001B[39;49m\u001B[38;5;124;43m'\u001B[39;49m\u001B[43m]\u001B[49m\u001B[38;5;241m.\u001B[39mshape[\u001B[38;5;241m1\u001B[39m])  \u001B[38;5;66;03m# Assuming all ones if not otherwise specified\u001B[39;00m\n\u001B[1;32m    350\u001B[0m factors \u001B[38;5;241m=\u001B[39m [particle[\u001B[38;5;124m'\u001B[39m\u001B[38;5;124mA\u001B[39m\u001B[38;5;124m'\u001B[39m], particle[\u001B[38;5;124m'\u001B[39m\u001B[38;5;124mB\u001B[39m\u001B[38;5;124m'\u001B[39m], particle[\u001B[38;5;124m'\u001B[39m\u001B[38;5;124mC\u001B[39m\u001B[38;5;124m'\u001B[39m]]\n\u001B[1;32m    351\u001B[0m reconstructed_tensor \u001B[38;5;241m=\u001B[39m cp_to_tensor((weights, factors))\n",
      "\u001B[0;31mIndexError\u001B[0m: only integers, slices (`:`), ellipsis (`...`), numpy.newaxis (`None`) and integer or boolean arrays are valid indices"
     ]
    }
   ],
   "source": [
    "dyn = CBO(f, x=particles, noise='isotropic', f_dim='3D',\n",
    "          **conf)\n",
    "sched = effective_sample_size(name='alpha', eta = 0.1)"
   ],
   "metadata": {
    "collapsed": false
   }
  },
  {
   "cell_type": "code",
   "execution_count": 111,
   "outputs": [
    {
     "ename": "NameError",
     "evalue": "name 'dyn' is not defined",
     "output_type": "error",
     "traceback": [
      "\u001B[0;31m---------------------------------------------------------------------------\u001B[0m",
      "\u001B[0;31mNameError\u001B[0m                                 Traceback (most recent call last)",
      "Cell \u001B[0;32mIn[111], line 1\u001B[0m\n\u001B[0;32m----> 1\u001B[0m \u001B[43mdyn\u001B[49m\u001B[38;5;241m.\u001B[39moptimize(sched\u001B[38;5;241m=\u001B[39msched)\n",
      "\u001B[0;31mNameError\u001B[0m: name 'dyn' is not defined"
     ]
    }
   ],
   "source": [
    "dyn.optimize(sched=sched)"
   ],
   "metadata": {
    "collapsed": false
   }
  },
  {
   "cell_type": "code",
   "execution_count": null,
   "outputs": [],
   "source": [],
   "metadata": {
    "collapsed": false
   }
  }
 ],
 "metadata": {
  "kernelspec": {
   "display_name": "Python 3",
   "language": "python",
   "name": "python3"
  },
  "language_info": {
   "codemirror_mode": {
    "name": "ipython",
    "version": 2
   },
   "file_extension": ".py",
   "mimetype": "text/x-python",
   "name": "python",
   "nbconvert_exporter": "python",
   "pygments_lexer": "ipython2",
   "version": "2.7.6"
  }
 },
 "nbformat": 4,
 "nbformat_minor": 0
}
